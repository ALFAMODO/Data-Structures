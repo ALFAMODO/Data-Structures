{
 "cells": [
  {
   "cell_type": "markdown",
   "metadata": {},
   "source": [
    "## CIRCULAR LINKED LIST\n",
    "#### Creation of list"
   ]
  },
  {
   "cell_type": "markdown",
   "metadata": {},
   "source": [
    "If Location = first ? \n",
    "newNode.next = head\n",
    "self.head = newNode\n",
    "tail.next = newNode \n",
    "\n",
    "If Location = last ?\n",
    "newNode.next = tail.next\n",
    "tail.next = newNode\n",
    "tail = newNode\n",
    "\n",
    "Else\n",
    "newNode.next = currentNode.next\n",
    "currentNode.next = newNode"
   ]
  },
  {
   "cell_type": "code",
   "execution_count": 45,
   "metadata": {},
   "outputs": [
    {
     "name": "stdout",
     "output_type": "stream",
     "text": [
      "Circular Linked List\n",
      "[5, 1, 3, 4]\n"
     ]
    }
   ],
   "source": [
    "class Node:\n",
    "    def __init__(self, value):\n",
    "        self.value = value\n",
    "        self.next = None\n",
    "\n",
    "class CircularLL:\n",
    "    def __init__(self):\n",
    "        self.head = None\n",
    "        self.tail = None\n",
    "\n",
    "    def __iter__(self):\n",
    "        node = self.head\n",
    "        while node:\n",
    "            yield node\n",
    "            node = node.next\n",
    "            if node == self.tail.next:\n",
    "                break\n",
    "\n",
    "    def createCLL(self, value):\n",
    "        newNode = Node(value)\n",
    "        newNode.next = newNode\n",
    "        self.head = newNode\n",
    "        self.tail = newNode\n",
    "    \n",
    "    def insertCLL(self, value, location):\n",
    "        if self.head is None:\n",
    "            return \"The Circular Linked List does not exist\"\n",
    "        else:\n",
    "            newNode = Node(value)\n",
    "            if location == 0:  # Insertion at the beginning\n",
    "                newNode.next = self.head\n",
    "                self.head = newNode\n",
    "                self.tail.next = newNode\n",
    "            elif location == 1:  # Insertion at the end\n",
    "                newNode.next = self.tail.next\n",
    "                self.tail.next = newNode\n",
    "                self.tail = newNode\n",
    "            else:\n",
    "                tempNode = self.head\n",
    "                index = 0\n",
    "                while index < location - 1 and tempNode != self.tail:\n",
    "                    tempNode = tempNode.next\n",
    "                    index += 1\n",
    "                if tempNode == self.tail:  # If location is beyond the list, insert at the end\n",
    "                    newNode.next = self.tail.next\n",
    "                    self.tail.next = newNode\n",
    "                    self.tail = newNode\n",
    "                else:\n",
    "                    newNode.next = tempNode.next\n",
    "                    tempNode.next = newNode\n",
    "\n",
    "            return \"The Node has been successfully inserted\"\n",
    "\n",
    "             \n",
    "        \n",
    "csll = CircularLL()\n",
    "print('Circular Linked List')\n",
    "csll.createCLL(1)\n",
    "csll.insertCLL(3, 7)\n",
    "csll.insertCLL(4, 6)\n",
    "csll.insertCLL(5, 0)\n",
    "print([node.value for node in csll])\n"
   ]
  },
  {
   "cell_type": "markdown",
   "metadata": {},
   "source": [
    "\n",
    "\n",
    "    "
   ]
  }
 ],
 "metadata": {
  "kernelspec": {
   "display_name": "Python 3",
   "language": "python",
   "name": "python3"
  },
  "language_info": {
   "codemirror_mode": {
    "name": "ipython",
    "version": 3
   },
   "file_extension": ".py",
   "mimetype": "text/x-python",
   "name": "python",
   "nbconvert_exporter": "python",
   "pygments_lexer": "ipython3",
   "version": "3.9.6"
  }
 },
 "nbformat": 4,
 "nbformat_minor": 2
}
