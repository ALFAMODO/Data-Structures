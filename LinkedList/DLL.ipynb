{
 "cells": [
  {
   "cell_type": "markdown",
   "metadata": {},
   "source": [
    "## DOUBLY LINKED LIST\n",
    "#### Creation of list\n",
    "#### Insertion"
   ]
  },
  {
   "cell_type": "code",
   "execution_count": 37,
   "metadata": {},
   "outputs": [
    {
     "name": "stdout",
     "output_type": "stream",
     "text": [
      "Double Linked List\n",
      "[3, 4, 8, 10]\n"
     ]
    }
   ],
   "source": [
    "class Node:\n",
    "    def __init__(self, value):\n",
    "        self.value = value\n",
    "        self.next = None\n",
    "        self.prev = None\n",
    "\n",
    "class DoublyLL:\n",
    "    def __init__(self):\n",
    "        self.head = None\n",
    "        self.tail = None\n",
    "\n",
    "    def __iter__(self):\n",
    "        node = self.head\n",
    "        while node:\n",
    "            yield node\n",
    "            node = node.next\n",
    "\n",
    "    def createDLL(self, value):\n",
    "        node = Node(value)\n",
    "        node.next = None\n",
    "        node.prev = None\n",
    "        self.head = node\n",
    "        self.tail = node\n",
    "    \n",
    "    def insertDLL(self, value, location):\n",
    "        if self.head is None:\n",
    "            return \"The Doubly Linked List does not exist\"\n",
    "        else:\n",
    "            newNode = Node(value)\n",
    "            if location == 0:  # Insertion at the beginning\n",
    "                newNode.prev = None\n",
    "                newNode.next = self.head\n",
    "                self.head.prev = newNode\n",
    "                self.head = newNode\n",
    "            else:\n",
    "                tempNode = self.head\n",
    "                index = 0\n",
    "                while index < location - 1 and tempNode.next is not None:\n",
    "                    tempNode = tempNode.next\n",
    "                    index += 1\n",
    "                \n",
    "                if tempNode.next is None:  # Insertion at the end\n",
    "                    newNode.prev = tempNode\n",
    "                    newNode.next = None\n",
    "                    tempNode.next = newNode\n",
    "                    self.tail = newNode\n",
    "                else:  # Insertion at specified location\n",
    "                    newNode.next = tempNode.next\n",
    "                    newNode.prev = tempNode\n",
    "                    newNode.next.prev = newNode\n",
    "                    tempNode.next = newNode\n",
    "            return \"The Node has been successfully inserted\"\n",
    "\n",
    "             \n",
    "        \n",
    "dll = DoublyLL()\n",
    "print('Double Linked List')\n",
    "dll.createDLL(3)\n",
    "dll.insertDLL(8,1)\n",
    "dll.insertDLL(10,6)\n",
    "dll.insertDLL(4,1)\n",
    "print([node.value for node in dll])\n"
   ]
  },
  {
   "cell_type": "markdown",
   "metadata": {},
   "source": [
    "\n",
    "\n",
    "    "
   ]
  }
 ],
 "metadata": {
  "kernelspec": {
   "display_name": "Python 3",
   "language": "python",
   "name": "python3"
  },
  "language_info": {
   "codemirror_mode": {
    "name": "ipython",
    "version": 3
   },
   "file_extension": ".py",
   "mimetype": "text/x-python",
   "name": "python",
   "nbconvert_exporter": "python",
   "pygments_lexer": "ipython3",
   "version": "3.9.6"
  }
 },
 "nbformat": 4,
 "nbformat_minor": 2
}
