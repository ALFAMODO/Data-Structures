{
 "cells": [
  {
   "cell_type": "markdown",
   "metadata": {},
   "source": [
    "## CIRCULAR LINKED LIST\n",
    "#### Creation of list"
   ]
  },
  {
   "cell_type": "markdown",
   "metadata": {},
   "source": [
    "If Location = first ? \n",
    "newNode.next = head\n",
    "self.head = newNode\n",
    "tail.next = newNode \n",
    "\n",
    "If Location = last ?\n",
    "newNode.next = tail.next\n",
    "tail.next = newNode\n",
    "tail = newNode\n",
    "\n",
    "Else\n",
    "newNode.next = currentNode.next\n",
    "currentNode.next = newNode"
   ]
  },
  {
   "cell_type": "code",
   "execution_count": 20,
   "metadata": {},
   "outputs": [
    {
     "name": "stdout",
     "output_type": "stream",
     "text": [
      "Circular Linked List Below\n",
      "[1, 2, 3, 4]\n"
     ]
    }
   ],
   "source": [
    "class Node:\n",
    "    def __init__(self, value):\n",
    "        self.value = value\n",
    "        self.next = None\n",
    "\n",
    "class CircularLL:\n",
    "    def __init__(self):\n",
    "        self.head = None\n",
    "        self.tail = None\n",
    "\n",
    "    def __iter__(self):\n",
    "        node = self.head\n",
    "        while node:\n",
    "            yield node\n",
    "            node = node.next\n",
    "            if node == self.tail.next:\n",
    "                break\n",
    "\n",
    "    def createCLL(self, value):\n",
    "        newNode = Node(value)\n",
    "        newNode.next = newNode\n",
    "        self.head = newNode\n",
    "        self.tail = newNode\n",
    "    \n",
    "    def insertCLL(self, value, location):\n",
    "        if self.head is None:\n",
    "            return \"The Circular Linked List does not exist\"\n",
    "        else:\n",
    "            newNode = Node(value)\n",
    "            if location == 0:  # Insertion at the beginning\n",
    "                newNode.next = self.head\n",
    "                self.head = newNode\n",
    "                self.tail.next = newNode\n",
    "            elif location == 1:  # Insertion at the end\n",
    "                newNode.next = self.tail.next\n",
    "                self.tail.next = newNode\n",
    "                self.tail = newNode\n",
    "            else:\n",
    "                tempNode = self.head\n",
    "                index = 0\n",
    "                while index < location - 1 and tempNode != self.tail:\n",
    "                    tempNode = tempNode.next\n",
    "                    index += 1\n",
    "                if tempNode == self.tail:  # If location is beyond the list, insert at the end\n",
    "                    newNode.next = self.tail.next\n",
    "                    self.tail.next = newNode\n",
    "                    self.tail = newNode\n",
    "                else:\n",
    "                    newNode.next = tempNode.next\n",
    "                    tempNode.next = newNode\n",
    "\n",
    "            return \"The Node has been successfully inserted\"\n",
    "\n",
    "    def searchCLL(self, value):\n",
    "        if self.head is None:\n",
    "            print('No List Found')\n",
    "        else:\n",
    "            temp = self.head\n",
    "            while temp:\n",
    "                if temp.value == value:\n",
    "                    return temp.value\n",
    "                temp = temp.next\n",
    "                if temp == self.tail.next:\n",
    "                    return \"Node not found\"\n",
    "                \n",
    "    def deleteCLL(self, location):\n",
    "        if self.head is None:\n",
    "            print('No List Found')\n",
    "\n",
    "        else:\n",
    "            if location == 0:\n",
    "                if self.head == self.tail: \n",
    "                    self.head.next = None\n",
    "                    self.head = None\n",
    "                    self.tail = None\n",
    "                else:\n",
    "                    self.head = self.head.next\n",
    "                    self.tail.next = self.head\n",
    "                    \n",
    "            elif location == 1:\n",
    "                if self.head == self.tail: \n",
    "                    self.head.next = None\n",
    "                    self.head = None\n",
    "                    self.tail = None\n",
    "                else:\n",
    "                    temp = self.head\n",
    "                    while temp is not None:\n",
    "                        if temp.next == self.tail:\n",
    "                            break\n",
    "                        temp = temp.next\n",
    "                    temp.next = self.head\n",
    "                    self.tail = temp\n",
    "            else:\n",
    "                temp = self.head\n",
    "                index = 0\n",
    "                while index < location - 1:\n",
    "                    temp = temp.next\n",
    "                    index += 1\n",
    "\n",
    "                nextNode = temp.next\n",
    "                temp.next = nextNode.next\n",
    "                \n",
    "        return \"Node deleted successfully\"\n",
    "\n",
    "\n",
    "             \n",
    "        \n",
    "csll = CircularLL()\n",
    "print('Circular Linked List Below')\n",
    "csll.createCLL(1)\n",
    "csll.insertCLL(2,1)\n",
    "csll.insertCLL(3,1)\n",
    "csll.insertCLL(4,1)\n",
    "print([node.value for node in csll])\n",
    "#print(csll.searchCLL(1))\n"
   ]
  },
  {
   "cell_type": "markdown",
   "metadata": {},
   "source": [
    "Deletion \n",
    "- at first node\n",
    "- at last node\n",
    "- at given node"
   ]
  },
  {
   "cell_type": "code",
   "execution_count": 21,
   "metadata": {},
   "outputs": [
    {
     "name": "stdout",
     "output_type": "stream",
     "text": [
      "[1, 2, 3, 4]\n"
     ]
    },
    {
     "ename": "KeyboardInterrupt",
     "evalue": "",
     "output_type": "error",
     "traceback": [
      "\u001b[0;31m---------------------------------------------------------------------------\u001b[0m",
      "\u001b[0;31mKeyboardInterrupt\u001b[0m                         Traceback (most recent call last)",
      "\u001b[1;32m/Users/shikshit/Documents/Data Structures/Data-Structures/Circular-linked-list/CLL.ipynb Cell 5\u001b[0m line \u001b[0;36m2\n\u001b[1;32m      <a href='vscode-notebook-cell:/Users/shikshit/Documents/Data%20Structures/Data-Structures/Circular-linked-list/CLL.ipynb#W4sZmlsZQ%3D%3D?line=0'>1</a>\u001b[0m \u001b[39mprint\u001b[39m([node\u001b[39m.\u001b[39mvalue \u001b[39mfor\u001b[39;00m node \u001b[39min\u001b[39;00m csll])\n\u001b[0;32m----> <a href='vscode-notebook-cell:/Users/shikshit/Documents/Data%20Structures/Data-Structures/Circular-linked-list/CLL.ipynb#W4sZmlsZQ%3D%3D?line=1'>2</a>\u001b[0m \u001b[39mprint\u001b[39m(csll\u001b[39m.\u001b[39;49mdeleteCLL(\u001b[39m10\u001b[39;49m))\n\u001b[1;32m      <a href='vscode-notebook-cell:/Users/shikshit/Documents/Data%20Structures/Data-Structures/Circular-linked-list/CLL.ipynb#W4sZmlsZQ%3D%3D?line=2'>3</a>\u001b[0m \u001b[39mprint\u001b[39m([node\u001b[39m.\u001b[39mvalue \u001b[39mfor\u001b[39;00m node \u001b[39min\u001b[39;00m csll])\n",
      "\u001b[1;32m/Users/shikshit/Documents/Data Structures/Data-Structures/Circular-linked-list/CLL.ipynb Cell 5\u001b[0m line \u001b[0;36m9\n\u001b[1;32m     <a href='vscode-notebook-cell:/Users/shikshit/Documents/Data%20Structures/Data-Structures/Circular-linked-list/CLL.ipynb#W4sZmlsZQ%3D%3D?line=94'>95</a>\u001b[0m index \u001b[39m=\u001b[39m \u001b[39m0\u001b[39m\n\u001b[1;32m     <a href='vscode-notebook-cell:/Users/shikshit/Documents/Data%20Structures/Data-Structures/Circular-linked-list/CLL.ipynb#W4sZmlsZQ%3D%3D?line=95'>96</a>\u001b[0m \u001b[39mwhile\u001b[39;00m temp:\n\u001b[0;32m---> <a href='vscode-notebook-cell:/Users/shikshit/Documents/Data%20Structures/Data-Structures/Circular-linked-list/CLL.ipynb#W4sZmlsZQ%3D%3D?line=96'>97</a>\u001b[0m     \u001b[39mif\u001b[39;00m index \u001b[39m<\u001b[39m location\u001b[39m-\u001b[39;49m\u001b[39m1\u001b[39;49m:\n\u001b[1;32m     <a href='vscode-notebook-cell:/Users/shikshit/Documents/Data%20Structures/Data-Structures/Circular-linked-list/CLL.ipynb#W4sZmlsZQ%3D%3D?line=97'>98</a>\u001b[0m         nextNode \u001b[39m=\u001b[39m temp\u001b[39m.\u001b[39mnext\n\u001b[1;32m    <a href='vscode-notebook-cell:/Users/shikshit/Documents/Data%20Structures/Data-Structures/Circular-linked-list/CLL.ipynb#W4sZmlsZQ%3D%3D?line=99'>100</a>\u001b[0m     temp \u001b[39m=\u001b[39m temp\u001b[39m.\u001b[39mnext\n",
      "\u001b[0;31mKeyboardInterrupt\u001b[0m: "
     ]
    }
   ],
   "source": [
    "print([node.value for node in csll])\n",
    "print(csll.deleteCLL(10))\n",
    "print([node.value for node in csll])"
   ]
  },
  {
   "cell_type": "markdown",
   "metadata": {},
   "source": [
    "\n",
    "\n",
    "    "
   ]
  }
 ],
 "metadata": {
  "kernelspec": {
   "display_name": "Python 3",
   "language": "python",
   "name": "python3"
  },
  "language_info": {
   "codemirror_mode": {
    "name": "ipython",
    "version": 3
   },
   "file_extension": ".py",
   "mimetype": "text/x-python",
   "name": "python",
   "nbconvert_exporter": "python",
   "pygments_lexer": "ipython3",
   "version": "3.9.6"
  }
 },
 "nbformat": 4,
 "nbformat_minor": 2
}
